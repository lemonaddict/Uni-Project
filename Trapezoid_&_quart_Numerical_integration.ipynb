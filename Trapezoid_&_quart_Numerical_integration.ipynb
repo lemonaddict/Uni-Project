{
  "nbformat": 4,
print"new"
  "nbformat_minor": 0,
  "metadata": {
    "colab": {
      "provenance": []
    },
    "kernelspec": {
      "name": "python3",
      "display_name": "Python 3"
    },
    "language_info": {
      "name": "python"
    }
  },
  "cells": [
    {
      "cell_type": "code",
      "execution_count": null,
      "metadata": {
        "id": "6ExA9YkEgSHV"
      },
      "outputs": [],
      "source": [
        "import numpy as np\n",
        "from scipy.integrate import trapz\n",
        "from scipy.integrate import quad"
      ]
    },
    {
      "cell_type": "code",
      "source": [
        "#@title Trapz function\n",
        "a = 0\n",
        "b = np.pi\n",
        "n = 11\n",
        "h = (b-a) / (n-1)\n",
        "x = np.linspace(a,b,n)\n",
        "f = np.sin(x)\n",
        "\n",
        "I_trapz = trapz(f,x)\n",
        "I_trap = (h/2)*(f[0]+ 2* sum(f[1:n-1]) + f[n-1])\n",
        "\n",
        "print(I_trapz)\n",
        "print(I_trap)"
      ],
      "metadata": {
        "colab": {
          "base_uri": "https://localhost:8080/"
        },
        "id": "rlkK0SuBCAMm",
        "outputId": "28e8532b-3c73-44ad-c55c-eb4af3d6a5bb"
      },
      "execution_count": null,
      "outputs": [
        {
          "output_type": "stream",
          "name": "stdout",
          "text": [
            "1.9835235375094544\n",
            "1.9835235375094546\n"
          ]
        }
      ]
    },
    {
      "cell_type": "code",
      "source": [
        "#@title Simpson's 1/3 rule\n",
        "\n",
        "a = 0\n",
        "b = np.pi\n",
        "n = 11\n",
        "h = (b-a) / (n-1)\n",
        "x = np.linspace(a,b,n)\n",
        "f = np.sin(x)\n",
        "\n",
        "I_simp = (h/3)*(f[0]+ 2* sum(f[:n-2:2]) +4*sum(f[1:n-1:2])+ f[n-1])\n",
        "err_simp = 2 - I_simp\n",
        "print(I_simp)\n",
        "print(err_simp)"
      ],
      "metadata": {
        "colab": {
          "base_uri": "https://localhost:8080/"
        },
        "id": "TsPBlY90FqDQ",
        "outputId": "aca4bcd9-4dcf-4c2e-bdd7-b45817bd1633"
      },
      "execution_count": null,
      "outputs": [
        {
          "output_type": "stream",
          "name": "stdout",
          "text": [
            "2.0001095173150043\n",
            "-0.00010951731500430384\n"
          ]
        }
      ]
    },
    {
      "cell_type": "code",
      "source": [
        "#@title Quad function\n",
        "I_quad, est_err_quad = quad(np.sin, 0, np.pi)\n",
        "print(I_quad)\n",
        "err_quad = 2 - I_quad\n",
        "print(est_err_quad, err_quad)"
      ],
      "metadata": {
        "colab": {
          "base_uri": "https://localhost:8080/"
        },
        "id": "qP_OXeH9EAwS",
        "outputId": "9cbbb74b-4ee2-4a38-88cd-c1160eb014ff"
      },
      "execution_count": null,
      "outputs": [
        {
          "output_type": "stream",
          "name": "stdout",
          "text": [
            "2.0\n",
            "2.220446049250313e-14 0.0\n"
          ]
        }
      ]
    }
  ]
}
